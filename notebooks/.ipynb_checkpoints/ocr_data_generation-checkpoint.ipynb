{
 "cells": [
  {
   "cell_type": "code",
   "execution_count": 402,
   "id": "ef59f7c3-3550-40df-823a-1592962fed4b",
   "metadata": {},
   "outputs": [],
   "source": [
    "import cv2\n",
    "from PIL import Image\n",
    "import random\n",
    "import torch\n",
    "import matplotlib.pyplot as plt\n",
    "from tqdm.notebook import tqdm\n",
    "import json"
   ]
  },
  {
   "cell_type": "code",
   "execution_count": 219,
   "id": "09b27efa-04cb-42e6-be79-51e1508226f7",
   "metadata": {},
   "outputs": [
    {
     "data": {
      "text/plain": [
       "<module 'torch.utils' from '/Users/tnluser/opt/anaconda3/lib/python3.9/site-packages/torch/utils/__init__.py'>"
      ]
     },
     "execution_count": 219,
     "metadata": {},
     "output_type": "execute_result"
    }
   ],
   "source": [
    "torch.utils"
   ]
  },
  {
   "cell_type": "code",
   "execution_count": 382,
   "id": "0fadf63f-b0cd-464c-aea0-8bd155c81192",
   "metadata": {},
   "outputs": [],
   "source": [
    "from english_words import get_english_words_set"
   ]
  },
  {
   "cell_type": "code",
   "execution_count": 383,
   "id": "20327739-9888-46f7-ad85-d87a6b644fef",
   "metadata": {},
   "outputs": [],
   "source": [
    "web2lowerset = list(get_english_words_set(['web2'], lower=True))"
   ]
  },
  {
   "cell_type": "code",
   "execution_count": 409,
   "id": "44877b3f-4bab-4993-a5e7-421d0146f533",
   "metadata": {},
   "outputs": [],
   "source": [
    "json.dump(web2lowerset, open('words.json', 'w'))"
   ]
  },
  {
   "cell_type": "code",
   "execution_count": 410,
   "id": "e4506ad7-a349-4a1b-bcb2-319d909c0303",
   "metadata": {},
   "outputs": [],
   "source": [
    "web2lowerset = json.load(open('words.json'))"
   ]
  },
  {
   "cell_type": "code",
   "execution_count": 411,
   "id": "850bafa6-6b0a-44b2-a2bf-16aa9dc6d04a",
   "metadata": {},
   "outputs": [
    {
     "data": {
      "text/plain": [
       "['stairbuilder',\n",
       " 'catalogistic',\n",
       " 'aerobatics',\n",
       " 'blindless',\n",
       " 'dannie',\n",
       " 'unoccluded',\n",
       " 'gymnogenous',\n",
       " 'stuffgownsman',\n",
       " 'voyage',\n",
       " 'snick',\n",
       " 'godown',\n",
       " 'macadamia',\n",
       " 'unplashed',\n",
       " 'unshifty',\n",
       " 'raiseman',\n",
       " 'unaffectedly',\n",
       " 'colportage',\n",
       " 'phalangian',\n",
       " 'remissibleness',\n",
       " 'rejudge',\n",
       " 'psychopathist',\n",
       " 'tarasco',\n",
       " 'noncomposite',\n",
       " 'cunabular',\n",
       " 'wivern',\n",
       " 'occipitoaxial',\n",
       " 'subnuvolar',\n",
       " 'homeridae',\n",
       " 'holdsman',\n",
       " 'sinigrosid',\n",
       " 'gonzalo',\n",
       " 'subrident',\n",
       " 'oestrous',\n",
       " 'vauntingly',\n",
       " 'astur',\n",
       " 'alundum',\n",
       " 'assemblable',\n",
       " 'prussic',\n",
       " 'nazirite',\n",
       " 'easting',\n",
       " 'hierogamy',\n",
       " 'dipleurogenetic',\n",
       " 'spalacidae',\n",
       " 'brachial',\n",
       " 'cyclopedic',\n",
       " 'twentieth',\n",
       " 'backboned',\n",
       " 'undeceived',\n",
       " 'titillative',\n",
       " 'hydrolatry',\n",
       " 'shacky',\n",
       " 'titmarsh',\n",
       " 'saltmouth',\n",
       " 'algonquian',\n",
       " 'tinlet',\n",
       " 'mary',\n",
       " 'colza',\n",
       " 'fascinating',\n",
       " 'unlearn',\n",
       " 'rejector',\n",
       " 'vaunting',\n",
       " 'aleurone',\n",
       " 'ghostfish',\n",
       " 'orthogenesis',\n",
       " 'phenolphthalein',\n",
       " 'subproctor',\n",
       " 'asseveratingly',\n",
       " 'tengerite',\n",
       " 'throatlatch',\n",
       " 'precompress',\n",
       " 'sanopurulent',\n",
       " 'projectional',\n",
       " 'illiteral',\n",
       " 'occupancy',\n",
       " 'resurrectioner',\n",
       " 'postpuerperal',\n",
       " 'numerosity',\n",
       " 'polyploid',\n",
       " 'enzymologist',\n",
       " 'saccharofarinaceous',\n",
       " 'drearness',\n",
       " 'lardizabalaceae',\n",
       " 'uteropexy',\n",
       " 'godlike',\n",
       " 'reconvince',\n",
       " 'gallinula',\n",
       " 'shawled',\n",
       " 'triarticulate',\n",
       " 'monopolarity',\n",
       " 'ignorance',\n",
       " 'uranometria',\n",
       " 'phascaceous',\n",
       " 'lithofracteur',\n",
       " 'deuteromycetes',\n",
       " 'iridaceae',\n",
       " 'cresselle',\n",
       " 'rigmarolish',\n",
       " 'celiocele',\n",
       " 'pyrophosphorous',\n",
       " 'podura',\n",
       " 'ditch',\n",
       " 'oophorectomy',\n",
       " 'unnamed',\n",
       " 'anazoturia',\n",
       " 'nicety',\n",
       " 'trispast',\n",
       " 'ortalidian',\n",
       " 'galeate',\n",
       " 'bacteremia',\n",
       " 'democratism',\n",
       " 'pyracanth',\n",
       " 'silundum',\n",
       " 'hurrian',\n",
       " 'astigmatic',\n",
       " 'remuneratory',\n",
       " 'rolfe',\n",
       " 'unornamentally',\n",
       " 'overtoil',\n",
       " 'nondelegate',\n",
       " 'entrammel',\n",
       " 'aerially',\n",
       " 'chapelward',\n",
       " 'allometry',\n",
       " 'contemperature',\n",
       " 'creatotoxism',\n",
       " 'lawcraft',\n",
       " 'misappellation',\n",
       " 'phajus',\n",
       " 'gabrielrache',\n",
       " 'androseme',\n",
       " 'homage',\n",
       " 'discrepant',\n",
       " 'perfusion',\n",
       " 'suitable',\n",
       " 'ankylostoma',\n",
       " 'winston',\n",
       " 'arbitrement',\n",
       " 'sloganeer',\n",
       " 'haveless',\n",
       " 'cacochymia',\n",
       " 'antipriming',\n",
       " 'evangelizer',\n",
       " 'hangle',\n",
       " 'multifactorial',\n",
       " 'thymolize',\n",
       " 'ichthyotomy',\n",
       " 'needly',\n",
       " 'electroanalytic',\n",
       " 'stickage',\n",
       " 'unconsulted',\n",
       " 'dezincification',\n",
       " 'killy',\n",
       " 'jezebel',\n",
       " 'cajuputol',\n",
       " 'bamboozler',\n",
       " 'pigeongram',\n",
       " 'rectum',\n",
       " 'bitwise',\n",
       " 'aceconitic',\n",
       " 'hinderer',\n",
       " 'postil',\n",
       " 'scolytus',\n",
       " 'repurchase',\n",
       " 'deputation',\n",
       " 'tracheary',\n",
       " 'meteoroidal',\n",
       " 'grisounite',\n",
       " 'calamostachys',\n",
       " 'noncoagulable',\n",
       " 'don',\n",
       " 'spasmodical',\n",
       " 'unscratchingly',\n",
       " 'confiscator',\n",
       " 'firesafeness',\n",
       " 'biniodide',\n",
       " 'kirghiz',\n",
       " 'canorously',\n",
       " 'tantalus',\n",
       " 'nondeterminist',\n",
       " 'unsedentary',\n",
       " 'estamene',\n",
       " 'overindulgence',\n",
       " 'mougeotiaceae',\n",
       " 'autodyne',\n",
       " 'arvel',\n",
       " 'uninterviewed',\n",
       " 'bassan',\n",
       " 'hematodynamometer',\n",
       " 'megaweber',\n",
       " 'nonbusiness',\n",
       " 'cephaloconic',\n",
       " 'unreprobated',\n",
       " 'occipitonuchal',\n",
       " 'fesswise',\n",
       " 'poephagus',\n",
       " 'enricher',\n",
       " 'corruptionist',\n",
       " 'dalibarda',\n",
       " 'uncensurable',\n",
       " 'bloodthirstily',\n",
       " 'cluttery',\n",
       " 'ostracizer',\n",
       " 'treasonless',\n",
       " 'calabrasella',\n",
       " 'acrostolium',\n",
       " 'utterance',\n",
       " 'underdrawers',\n",
       " 'lonesomeness',\n",
       " 'nebuliferous',\n",
       " 'pantometric',\n",
       " 'unnipped',\n",
       " 'whipper',\n",
       " 'manumission',\n",
       " 'glauconitic',\n",
       " 'moonery',\n",
       " 'iridosclerotomy',\n",
       " 'neurophagy',\n",
       " 'clypeolar',\n",
       " 'gallic',\n",
       " 'normatively',\n",
       " 'rehearing',\n",
       " 'gorgonlike',\n",
       " 'smifligation',\n",
       " 'eparterial',\n",
       " 'dihybridism',\n",
       " 'primerole',\n",
       " 'spathous',\n",
       " 'souterrain',\n",
       " 'apodixis',\n",
       " 'sibilate',\n",
       " 'kenmark',\n",
       " 'palt',\n",
       " 'resinolic',\n",
       " 'downcut',\n",
       " 'runback',\n",
       " 'unwordy',\n",
       " 'araucariaceae',\n",
       " 'undecreased',\n",
       " 'production',\n",
       " 'psychoreflex',\n",
       " 'frighteningly',\n",
       " 'impenetration',\n",
       " 'underness',\n",
       " 'malva',\n",
       " 'moniliform',\n",
       " 'leisterer',\n",
       " 'staab',\n",
       " 'metallics',\n",
       " 'acinarious',\n",
       " 'nosological',\n",
       " 'decentration',\n",
       " 'untithed',\n",
       " 'unpoeticalness',\n",
       " 'galziekte',\n",
       " 'alcoholysis',\n",
       " 'kinesics',\n",
       " 'cavernous',\n",
       " 'neengatu',\n",
       " 'unwithdrawable',\n",
       " 'pantocrator',\n",
       " 'sufiistic',\n",
       " 'sublethal',\n",
       " 'unliquidating',\n",
       " 'chylifactory',\n",
       " 'entrapper',\n",
       " 'pleaseman',\n",
       " 'anyplace',\n",
       " 'reking',\n",
       " 'collarino',\n",
       " 'delft',\n",
       " 'goldfinny',\n",
       " 'criniferous',\n",
       " 'unwigged',\n",
       " 'consociative',\n",
       " 'flag',\n",
       " 'undeserving',\n",
       " 'diffluence',\n",
       " 'misbecome',\n",
       " 'nondancer',\n",
       " 'imprest',\n",
       " 'magnetostriction',\n",
       " 'thalamite',\n",
       " 'lecidea',\n",
       " 'burghalpenny',\n",
       " 'wittolly',\n",
       " 'assertorily',\n",
       " 'profederation',\n",
       " 'euphonical',\n",
       " 'trocheeize',\n",
       " 'coversed',\n",
       " 'weiring',\n",
       " 'degradement',\n",
       " 'rediscipline',\n",
       " 'belyingly',\n",
       " 'threefold',\n",
       " 'indicatively',\n",
       " 'geet',\n",
       " 'herbose',\n",
       " 'odontaspididae',\n",
       " 'unpoise',\n",
       " 'superexist',\n",
       " 'reinfest',\n",
       " 'commensuration',\n",
       " 'teer',\n",
       " 'snobographer',\n",
       " 'kitcheny',\n",
       " 'houseboating',\n",
       " 'bailwood',\n",
       " 'uraniferous',\n",
       " 'upkeep',\n",
       " 'unreflectingness',\n",
       " 'arundinaceous',\n",
       " 'asphaltum',\n",
       " 'needy',\n",
       " 'unexhaustibly',\n",
       " 'shice',\n",
       " 'americanly',\n",
       " 'wimblelike',\n",
       " 'exterritorially',\n",
       " 'baggit',\n",
       " 'arapunga',\n",
       " 'cephalic',\n",
       " 'kenspeck',\n",
       " 'cushitic',\n",
       " 'codictatorship',\n",
       " 'mesogastrium',\n",
       " 'ankylenteron',\n",
       " 'achromatic',\n",
       " 'aurin',\n",
       " 'pagina',\n",
       " 'uncaring',\n",
       " 'monodromy',\n",
       " 'tautotype',\n",
       " 'balawa',\n",
       " 'anagalactic',\n",
       " 'rededuction',\n",
       " 'myxothallophyta',\n",
       " 'cilioflagellata',\n",
       " 'helcoid',\n",
       " 'glaceing',\n",
       " 'parasitotropy',\n",
       " 'repulsion',\n",
       " 'archdevil',\n",
       " 'more',\n",
       " 'unhumanized',\n",
       " 'unexorable',\n",
       " 'bicollateral',\n",
       " 'radicose',\n",
       " 'bring',\n",
       " 'escolar',\n",
       " 'flinchingly',\n",
       " 'iguanid',\n",
       " 'supraoccipital',\n",
       " 'predefrayal',\n",
       " 'siphonostelic',\n",
       " 'heathbird',\n",
       " 'holly',\n",
       " 'preinduce',\n",
       " 'tangaroan',\n",
       " 'reserved',\n",
       " 'surmount',\n",
       " 'mitch',\n",
       " 'enjoyer',\n",
       " 'supermanly',\n",
       " 'preoblige',\n",
       " 'therblig',\n",
       " 'synapterous',\n",
       " 'mohammedist',\n",
       " 'abundantly',\n",
       " 'jehovah',\n",
       " 'wowserish',\n",
       " 'salpinx',\n",
       " 'interaulic',\n",
       " 'longitudinally',\n",
       " 'pyorrhea',\n",
       " 'reovercharge',\n",
       " 'reconnaissance',\n",
       " 'teetotumize',\n",
       " 'encephalopsychesis',\n",
       " 'tetrastylous',\n",
       " 'desulphurizer',\n",
       " 'patronizingly',\n",
       " 'knout',\n",
       " 'dacoity',\n",
       " 'noctipotent',\n",
       " 'angiography',\n",
       " 'protogyny',\n",
       " 'diabrosis',\n",
       " 'metempirical',\n",
       " 'shine',\n",
       " 'unlifelike',\n",
       " 'mothworm',\n",
       " 'masaris',\n",
       " 'commissionership',\n",
       " 'minnie',\n",
       " 'geomant',\n",
       " 'sporophyllum',\n",
       " 'contignation',\n",
       " 'muscicapine',\n",
       " 'tralatition',\n",
       " 'exhalant',\n",
       " 'governableness',\n",
       " 'propylic',\n",
       " 'legion',\n",
       " 'gule',\n",
       " 'dwarfishness',\n",
       " 'nonproliferous',\n",
       " 'incorporeality',\n",
       " 'angrily',\n",
       " 'mesoplastral',\n",
       " 'evasible',\n",
       " 'behooves',\n",
       " 'fingerprinting',\n",
       " 'layback',\n",
       " 'constantinian',\n",
       " 'flintwork',\n",
       " 'glutition',\n",
       " 'toston',\n",
       " 'ceyx',\n",
       " 'moorberry',\n",
       " 'teachably',\n",
       " 'colletia',\n",
       " 'glandularly',\n",
       " 'unconfined',\n",
       " 'fifteener',\n",
       " 'amelification',\n",
       " 'deoppilative',\n",
       " 'undronelike',\n",
       " 'sulphophosphate',\n",
       " 'carton',\n",
       " 'oophoron',\n",
       " 'sump',\n",
       " 'porotype',\n",
       " 'condemnably',\n",
       " 'minometer',\n",
       " 'sinological',\n",
       " 'pinball',\n",
       " 'cryptorchidism',\n",
       " 'spectroheliographic',\n",
       " 'inyoke',\n",
       " 'crab',\n",
       " 'presanguine',\n",
       " 'preacidness',\n",
       " 'intolerantly',\n",
       " 'reometer',\n",
       " 'oxidimetry',\n",
       " 'triskele',\n",
       " 'avowal',\n",
       " 'nucellus',\n",
       " 'cowslip',\n",
       " 'cacodylate',\n",
       " 'decayedness',\n",
       " 'termtime',\n",
       " 'crebrity',\n",
       " 'unhelmed',\n",
       " 'discontiguousness',\n",
       " 'calymene',\n",
       " 'jure',\n",
       " 'balneophysiology',\n",
       " 'acutate',\n",
       " 'kinkly',\n",
       " 'plumatella',\n",
       " 'joylessly',\n",
       " 'palliate',\n",
       " 'wallowish',\n",
       " 'knead',\n",
       " 'fatuous',\n",
       " 'overwrought',\n",
       " 'endozoa',\n",
       " 'taxon',\n",
       " 'disaffiliation',\n",
       " 'hemodromometer',\n",
       " 'disclaimant',\n",
       " 'semieffigy',\n",
       " 'rumormonger',\n",
       " 'crying',\n",
       " 'cotesian',\n",
       " 'praetorian',\n",
       " 'undistinguishable',\n",
       " 'absolvitor',\n",
       " 'scaut',\n",
       " 'patriotship',\n",
       " 'cuba',\n",
       " 'reconduction',\n",
       " 'eleutherozoan',\n",
       " 'undemocratize',\n",
       " 'avitaminotic',\n",
       " 'pyrexial',\n",
       " 'goldenlocks',\n",
       " 'param',\n",
       " 'uncarbonated',\n",
       " 'adenodermia',\n",
       " 'pigmaking',\n",
       " 'overstrew',\n",
       " 'uneuphoniousness',\n",
       " 'concretor',\n",
       " 'conferrer',\n",
       " 'cookroom',\n",
       " 'dillyman',\n",
       " 'ichthyocoprolite',\n",
       " 'behest',\n",
       " 'unancestried',\n",
       " 'ackman',\n",
       " 'mcintosh',\n",
       " 'coincidentally',\n",
       " 'macrology',\n",
       " 'enticingness',\n",
       " 'saying',\n",
       " 'purply',\n",
       " 'peckhamite',\n",
       " 'hemimetabola',\n",
       " 'mothergate',\n",
       " 'mesomyodous',\n",
       " 'shirtman',\n",
       " 'sacrification',\n",
       " 'brahmic',\n",
       " 'writation',\n",
       " 'thunbergilene',\n",
       " 'cricothyreoid',\n",
       " 'amphigene',\n",
       " 'needlewoman',\n",
       " 'appendicostomy',\n",
       " 'buyer',\n",
       " 'shirley',\n",
       " 'polyamylose',\n",
       " 'ventrilocution',\n",
       " 'aide',\n",
       " 'unfaceted',\n",
       " 'impark',\n",
       " 'underchief',\n",
       " 'galactan',\n",
       " 'unperturbedly',\n",
       " 'reclose',\n",
       " 'purpurescent',\n",
       " 'onan',\n",
       " 'pleurotyphoid',\n",
       " 'gingham',\n",
       " 'streamer',\n",
       " 'streamless',\n",
       " 'spermatiogenous',\n",
       " 'jocundity',\n",
       " 'souse',\n",
       " 'unoppressed',\n",
       " 'unridably',\n",
       " 'norther',\n",
       " 'naphthacene',\n",
       " 'idiomography',\n",
       " 'purpurine',\n",
       " 'chamaenerion',\n",
       " 'swinelike',\n",
       " 'al',\n",
       " 'alcantarines',\n",
       " 'tonish',\n",
       " 'santoninic',\n",
       " 'gooseherd',\n",
       " 'encephalogram',\n",
       " 'prehensory',\n",
       " 'leporidae',\n",
       " 'nonselective',\n",
       " 'elytrum',\n",
       " 'conjugally',\n",
       " 'nape',\n",
       " 'capanne',\n",
       " 'leftist',\n",
       " 'inks',\n",
       " 'prorata',\n",
       " 'weatherology',\n",
       " 'trilithon',\n",
       " 'unpaired',\n",
       " 'militation',\n",
       " 'sulfindigotic',\n",
       " 'quileute',\n",
       " 'loftman',\n",
       " 'laetic',\n",
       " 'triunsaturated',\n",
       " 'magnifically',\n",
       " 'unawaking',\n",
       " 'vallis',\n",
       " 'rastaban',\n",
       " 'poeticality',\n",
       " 'smoke',\n",
       " 'doubleted',\n",
       " 'boletaceous',\n",
       " 'newspaperese',\n",
       " 'gibraltar',\n",
       " 'precorrectness',\n",
       " 'moschate',\n",
       " 'curricularization',\n",
       " 'intrepidity',\n",
       " 'furbish',\n",
       " 'dragoon',\n",
       " 'unparroted',\n",
       " 'bovovaccination',\n",
       " 'disharmony',\n",
       " 'aplasia',\n",
       " 'gloriousness',\n",
       " 'brakehead',\n",
       " 'outtask',\n",
       " 'dodgery',\n",
       " 'sackmaker',\n",
       " 'phyllostomidae',\n",
       " 'haulabout',\n",
       " 'antipart',\n",
       " 'avicularimorphae',\n",
       " 'marchantia',\n",
       " 'escorial',\n",
       " 'unspectacled',\n",
       " 'safranophile',\n",
       " 'misunderstanding',\n",
       " 'dualmutef',\n",
       " 'vetusty',\n",
       " 'drawboard',\n",
       " 'muscovitic',\n",
       " 'nonastronomical',\n",
       " 'diphtheroid',\n",
       " 'interconal',\n",
       " 'passing',\n",
       " 'reclaimless',\n",
       " 'uraniidae',\n",
       " 'sawing',\n",
       " 'incohering',\n",
       " 'nondiffusing',\n",
       " 'glumiferous',\n",
       " 'cholesteatomatous',\n",
       " 'designative',\n",
       " 'alytarch',\n",
       " 'litigate',\n",
       " 'xenocratean',\n",
       " 'gorcock',\n",
       " 'ough',\n",
       " 'implicitly',\n",
       " 'tash',\n",
       " 'chartism',\n",
       " 'isopyromucic',\n",
       " 'japonica',\n",
       " 'compositively',\n",
       " 'aeriality',\n",
       " 'sarcosporida',\n",
       " 'createdness',\n",
       " 'nonexistential',\n",
       " 'ergastoplasm',\n",
       " 'nonsaturated',\n",
       " 'andrew',\n",
       " 'intrathyroid',\n",
       " 'caesarize',\n",
       " 'trirectangular',\n",
       " 'palliation',\n",
       " 'externum',\n",
       " 'periople',\n",
       " 'wisse',\n",
       " 'hereticize',\n",
       " 'arshine',\n",
       " 'encapsulate',\n",
       " 'exarch',\n",
       " 'ochrocarpous',\n",
       " 'triliteralness',\n",
       " 'smoothbored',\n",
       " 'bracon',\n",
       " 'overfasting',\n",
       " 'apparent',\n",
       " 'coenospecies',\n",
       " 'taenioglossa',\n",
       " 'protax',\n",
       " 'undergarment',\n",
       " 'beshout',\n",
       " 'nycticorax',\n",
       " 'humist',\n",
       " 'ectasis',\n",
       " 'aurous',\n",
       " 'ruru',\n",
       " 'syllepsis',\n",
       " 'slatemaker',\n",
       " 'predevotion',\n",
       " 'leptolinae',\n",
       " 'mouthlike',\n",
       " 'florification',\n",
       " 'miasmatize',\n",
       " 'catlap',\n",
       " 'siren',\n",
       " 'blennorrheal',\n",
       " 'precipitance',\n",
       " 'hymenopteran',\n",
       " 'despairful',\n",
       " 'unrightly',\n",
       " 'countershear',\n",
       " 'polonese',\n",
       " 'margarine',\n",
       " 'gardyloo',\n",
       " 'coremorphosis',\n",
       " 'gruneritization',\n",
       " 'constructively',\n",
       " 'larderellite',\n",
       " 'mouthable',\n",
       " 'midland',\n",
       " 'iatric',\n",
       " 'generalize',\n",
       " 'rakhal',\n",
       " 'rakily',\n",
       " 'laurie',\n",
       " 'riffi',\n",
       " 'vaginant',\n",
       " 'schoolkeeper',\n",
       " 'abietineous',\n",
       " 'grecize',\n",
       " 'clitch',\n",
       " 'dunder',\n",
       " 'bescribble',\n",
       " 'erodible',\n",
       " 'patulously',\n",
       " 'excretory',\n",
       " 'warst',\n",
       " 'archmagician',\n",
       " 'adoxaceae',\n",
       " 'lestrad',\n",
       " 'lichenography',\n",
       " 'scabrously',\n",
       " 'laddery',\n",
       " 'uncleansed',\n",
       " 'say',\n",
       " 'pyrenopeziza',\n",
       " 'incendivity',\n",
       " 'antiacid',\n",
       " 'inexpiate',\n",
       " 'catoctin',\n",
       " 'arteriococcygeal',\n",
       " 'stepfatherly',\n",
       " 'waylaidlessness',\n",
       " 'testatrices',\n",
       " 'scratchcard',\n",
       " 'knifeful',\n",
       " 'semiligneous',\n",
       " 'awful',\n",
       " 'spavined',\n",
       " 'solenoidal',\n",
       " 'pantotherian',\n",
       " 'woodworker',\n",
       " 'ferrocyanhydric',\n",
       " 'unresting',\n",
       " 'nilometric',\n",
       " 'refractility',\n",
       " 'upsaddle',\n",
       " 'certifiable',\n",
       " 'pessimal',\n",
       " 'tappen',\n",
       " 'apostolici',\n",
       " 'kinesalgia',\n",
       " 'cosplendor',\n",
       " 'monocotyledones',\n",
       " 'khan',\n",
       " 'munch',\n",
       " 'superphlogistication',\n",
       " 'radiatiform',\n",
       " 'hispidulate',\n",
       " 'operational',\n",
       " 'fassalite',\n",
       " 'unmanumissible',\n",
       " 'radiated',\n",
       " 'bluebird',\n",
       " 'scotticize',\n",
       " 'gade',\n",
       " 'overcasual',\n",
       " 'unrighteousness',\n",
       " 'prepreference',\n",
       " 'nonradiating',\n",
       " 'adulterous',\n",
       " 'innateness',\n",
       " 'derrickman',\n",
       " 'squamscot',\n",
       " 'protectorial',\n",
       " 'achage',\n",
       " 'dolichocephalize',\n",
       " 'metrofibroma',\n",
       " 'paulista',\n",
       " 'nominator',\n",
       " 'putrefactive',\n",
       " 'santir',\n",
       " 'heptahydrated',\n",
       " 'microchemical',\n",
       " 'audivision',\n",
       " 'shikargah',\n",
       " 'hyperploid',\n",
       " 'astrolater',\n",
       " 'ejaculatory',\n",
       " 'henhearted',\n",
       " 'fructiculture',\n",
       " 'jimmy',\n",
       " 'evocation',\n",
       " 'snuffy',\n",
       " 'interoscillate',\n",
       " 'tusayan',\n",
       " 'churchgoing',\n",
       " 'coleophoridae',\n",
       " 'uneugenic',\n",
       " 'sardian',\n",
       " 'disportment',\n",
       " 'quininism',\n",
       " 'subintelligitur',\n",
       " 'hormigo',\n",
       " 'autogenic',\n",
       " 'badian',\n",
       " 'myrmecophagous',\n",
       " 'arms',\n",
       " 'bibliotherapeutic',\n",
       " 'superthankful',\n",
       " 'protocolize',\n",
       " 'creekstuff',\n",
       " 'velumen',\n",
       " 'undighted',\n",
       " 'loxodon',\n",
       " 'shaatnez',\n",
       " 'coarsen',\n",
       " 'chaetopterus',\n",
       " 'melastomad',\n",
       " 'nickelic',\n",
       " 'fenestellidae',\n",
       " 'cakewalk',\n",
       " 'phenomenality',\n",
       " 'mabellona',\n",
       " 'toe',\n",
       " 'pompon',\n",
       " 'stob',\n",
       " 'termital',\n",
       " 'orgiasm',\n",
       " 'unentangled',\n",
       " 'alfirk',\n",
       " 'affrontingly',\n",
       " 'strenuity',\n",
       " 'wirrasthru',\n",
       " 'rivalable',\n",
       " 'hematoid',\n",
       " 'pepticity',\n",
       " 'chondrotomy',\n",
       " 'upswarm',\n",
       " 'maidhood',\n",
       " 'patter',\n",
       " 'excommunicant',\n",
       " 'hydroplutonic',\n",
       " 'diaene',\n",
       " 'coucal',\n",
       " 'promotor',\n",
       " 'crustaceal',\n",
       " 'negativer',\n",
       " 'yttrocrasite',\n",
       " 'monumentlike',\n",
       " 'proverbiology',\n",
       " 'semisacerdotal',\n",
       " 'appreciational',\n",
       " 'esophagectomy',\n",
       " 'vakkaliga',\n",
       " 'bradytocia',\n",
       " 'miasmal',\n",
       " 'dijudication',\n",
       " 'gamekeeper',\n",
       " 'turion',\n",
       " 'antigraph',\n",
       " 'metaphysic',\n",
       " 'sclerodermi',\n",
       " 'spolia',\n",
       " 'outstagger',\n",
       " 'rabbinate',\n",
       " 'noil',\n",
       " 'radioautographic',\n",
       " 'subcolumnar',\n",
       " 'laddikie',\n",
       " 'phu',\n",
       " 'spryness',\n",
       " 'pteropaedic',\n",
       " 'abstinence',\n",
       " 'babuina',\n",
       " 'eudaemonize',\n",
       " 'copy',\n",
       " 'holostomate',\n",
       " 'islot',\n",
       " 'soon',\n",
       " 'unteasled',\n",
       " 'hydroponist',\n",
       " 'corvine',\n",
       " 'huntable',\n",
       " 'perspicuously',\n",
       " 'corynine',\n",
       " 'propheticalness',\n",
       " 'raiiform',\n",
       " 'kathodic',\n",
       " 'acridone',\n",
       " 'alphabetic',\n",
       " 'upbuilder',\n",
       " 'hydrophore',\n",
       " 'noncanvassing',\n",
       " 'vitreum',\n",
       " 'mortmainer',\n",
       " 'tellurhydric',\n",
       " 'millboard',\n",
       " 'agnail',\n",
       " 'invocatory',\n",
       " 'teleozoic',\n",
       " 'ovigenetic',\n",
       " 'predescent',\n",
       " 'teratogenous',\n",
       " 'ectodermic',\n",
       " 'blastomycosis',\n",
       " 'haloid',\n",
       " 'chronoscopy',\n",
       " 'bellower',\n",
       " 'delphacid',\n",
       " 'paraspy',\n",
       " 'aspace',\n",
       " 'emulable',\n",
       " 'monoptote',\n",
       " 'beleave',\n",
       " 'merrymeeting',\n",
       " 'assarion',\n",
       " 'thrift',\n",
       " 'philonium',\n",
       " 'fleabane',\n",
       " 'testiere',\n",
       " 'unspleenish',\n",
       " 'toby',\n",
       " 'sensillum',\n",
       " 'litholytic',\n",
       " 'precorruption',\n",
       " 'noncontiguous',\n",
       " 'bartholomite',\n",
       " 'seigneurial',\n",
       " 'mazdaist',\n",
       " 'undeify',\n",
       " 'philopagan',\n",
       " 'unenlivened',\n",
       " 'photoheliometer',\n",
       " 'dow',\n",
       " 'berkowitz',\n",
       " 'locustidae',\n",
       " 'inoperative',\n",
       " 'hobblingly',\n",
       " 'crankman',\n",
       " 'hugging',\n",
       " 'peasen',\n",
       " 'retrobuccal',\n",
       " 'criterion',\n",
       " 'astoop',\n",
       " 'hearing',\n",
       " 'antiphrastical',\n",
       " 'electrophrenic',\n",
       " 'slavify',\n",
       " 'city',\n",
       " 'halloo',\n",
       " 'protoxylem',\n",
       " 'pulsational',\n",
       " 'melatope',\n",
       " 'unscriptural',\n",
       " 'angulinerved',\n",
       " 'antipascha',\n",
       " 'coupelet',\n",
       " 'antinatural',\n",
       " 'gibbousness',\n",
       " 'surgeproof',\n",
       " 'hieratic',\n",
       " 'supereffective',\n",
       " 'invaluable',\n",
       " 'caproin',\n",
       " 'plecopteran',\n",
       " 'frixion',\n",
       " 'elamite',\n",
       " 'mutilous',\n",
       " 'semipectoral',\n",
       " 'garryaceae',\n",
       " 'ashine',\n",
       " 'coneflower',\n",
       " 'echites',\n",
       " 'cymatium',\n",
       " 'horsemanship',\n",
       " 'dexiotrope',\n",
       " 'strobilus',\n",
       " 'terete',\n",
       " 'cholelithotrity',\n",
       " 'universology',\n",
       " 'wizardship',\n",
       " 'phyllostomatinae',\n",
       " 'gobiiformes',\n",
       " 'abnormality',\n",
       " 'unweeting',\n",
       " 'reproductionist',\n",
       " 'hoise',\n",
       " 'unriddling',\n",
       " 'brod',\n",
       " 'semibarbarianism',\n",
       " 'nebulize',\n",
       " 'musicologist',\n",
       " 'latian',\n",
       " 'archplotter',\n",
       " 'sicanian',\n",
       " 'heterogenous',\n",
       " 'bettor',\n",
       " 'unrespectively',\n",
       " 'phylloclad',\n",
       " 'satanas',\n",
       " 'acicularly',\n",
       " 'unopportuneness',\n",
       " 'astroblast',\n",
       " 'unspeaking',\n",
       " 'unnonsensical',\n",
       " ...]"
      ]
     },
     "execution_count": 411,
     "metadata": {},
     "output_type": "execute_result"
    }
   ],
   "source": [
    "web2lowerset"
   ]
  },
  {
   "cell_type": "code",
   "execution_count": 387,
   "id": "ee32174d-66e1-45f0-b0c9-ce1860382197",
   "metadata": {},
   "outputs": [
    {
     "data": {
      "text/plain": [
       "{'-',\n",
       " 'a',\n",
       " 'b',\n",
       " 'c',\n",
       " 'd',\n",
       " 'e',\n",
       " 'f',\n",
       " 'g',\n",
       " 'h',\n",
       " 'i',\n",
       " 'j',\n",
       " 'k',\n",
       " 'l',\n",
       " 'm',\n",
       " 'n',\n",
       " 'o',\n",
       " 'p',\n",
       " 'q',\n",
       " 'r',\n",
       " 's',\n",
       " 't',\n",
       " 'u',\n",
       " 'v',\n",
       " 'w',\n",
       " 'x',\n",
       " 'y',\n",
       " 'z'}"
      ]
     },
     "execution_count": 387,
     "metadata": {},
     "output_type": "execute_result"
    }
   ],
   "source": [
    "set([e for l in web2lowerset for e in list(l)])"
   ]
  },
  {
   "cell_type": "code",
   "execution_count": 6,
   "id": "134cdd8b-f795-4cca-a7b2-bb33d84429a8",
   "metadata": {},
   "outputs": [
    {
     "data": {
      "text/plain": [
       "'wo'"
      ]
     },
     "execution_count": 6,
     "metadata": {},
     "output_type": "execute_result"
    }
   ],
   "source": [
    "types = ['nu', 'wo', 'nuwo']\n",
    "random.choice(types)"
   ]
  },
  {
   "cell_type": "code",
   "execution_count": 7,
   "id": "ceb85711-2622-4b9c-a0fb-e08658875921",
   "metadata": {},
   "outputs": [
    {
     "data": {
      "text/plain": [
       "'woolul592'"
      ]
     },
     "execution_count": 7,
     "metadata": {},
     "output_type": "execute_result"
    }
   ],
   "source": [
    "t_string = list(random.choice(web2lowerset))\n",
    "indices = random.choices(list(range(len(t_string))), k=len(t_string)//3)\n",
    "for i in indices: t_string[i] = str(random.randint(0, 10))\n",
    "string = ''.join(t_string)\n",
    "string"
   ]
  },
  {
   "cell_type": "code",
   "execution_count": 8,
   "id": "07c714b8-98d8-4dac-8f57-1d6565523770",
   "metadata": {},
   "outputs": [
    {
     "data": {
      "text/plain": [
       "'woolul592'"
      ]
     },
     "execution_count": 8,
     "metadata": {},
     "output_type": "execute_result"
    }
   ],
   "source": [
    "string"
   ]
  },
  {
   "cell_type": "code",
   "execution_count": 9,
   "id": "cdd176ce-87e5-42ad-9d2d-a4eb5d4767b9",
   "metadata": {},
   "outputs": [
    {
     "data": {
      "text/plain": [
       "0.4069669342009996"
      ]
     },
     "execution_count": 9,
     "metadata": {},
     "output_type": "execute_result"
    }
   ],
   "source": [
    "random.random()"
   ]
  },
  {
   "cell_type": "code",
   "execution_count": 10,
   "id": "e94ad9b3-37b4-4cd7-aa89-4678e6ddc9fb",
   "metadata": {},
   "outputs": [
    {
     "name": "stdout",
     "output_type": "stream",
     "text": [
      "10108203261\n",
      "378619010510\n",
      "CASEATE\n",
      "1001016\n",
      "replacer\n",
      "7ir8um1010icate\n",
      "110029\n",
      "2\n",
      "RYME\n",
      "POWERLESS\n"
     ]
    }
   ],
   "source": [
    "def generate_random_string():\n",
    "    types = ['nu', 'wo', 'nuwo']\n",
    "    ty = random.choice(types)\n",
    "    string = ''\n",
    "    if ty == 'nu':\n",
    "        length = random.randint(1, 10)\n",
    "        for i in range(length): string+= str(random.randint(0, 10))\n",
    "    if ty == 'wo':\n",
    "        string = random.choice(web2lowerset)\n",
    "    if ty == 'nuwo':\n",
    "        t_string = list(random.choice(web2lowerset))\n",
    "        indices = random.choices(list(range(len(t_string))), k=len(t_string)//3)\n",
    "        for i in indices: t_string[i] = str(random.randint(0, 10))\n",
    "        string = ''.join(t_string)\n",
    "    if random.random() > 0.5: string = string.upper()\n",
    "    return string\n",
    "for i in range(10): print(generate_random_string())"
   ]
  },
  {
   "cell_type": "code",
   "execution_count": 210,
   "id": "d1d4d2b2-9cd6-43cf-8853-cedc2ba4d1b9",
   "metadata": {},
   "outputs": [
    {
     "data": {
      "application/vnd.jupyter.widget-view+json": {
       "model_id": "d3fbe3bae86b48dfaba51995c59efd4a",
       "version_major": 2,
       "version_minor": 0
      },
      "text/plain": [
       "  0%|          | 0/1000000 [00:00<?, ?it/s]"
      ]
     },
     "metadata": {},
     "output_type": "display_data"
    },
    {
     "data": {
      "text/plain": [
       "29"
      ]
     },
     "execution_count": 210,
     "metadata": {},
     "output_type": "execute_result"
    }
   ],
   "source": [
    "mx = 0\n",
    "for i in tqdm(range(1000000)):\n",
    "    le = len(generate_random_string())\n",
    "    if le > mx: mx = le\n",
    "mx"
   ]
  },
  {
   "cell_type": "code",
   "execution_count": 11,
   "id": "b99669f5-e184-474d-a869-c11bdc23a330",
   "metadata": {},
   "outputs": [
    {
     "data": {
      "text/plain": [
       "torch.Size([40, 100, 3])"
      ]
     },
     "execution_count": 11,
     "metadata": {},
     "output_type": "execute_result"
    }
   ],
   "source": [
    "torch.zeros((40, 100, 3)).shape"
   ]
  },
  {
   "cell_type": "code",
   "execution_count": null,
   "id": "127f4e2e-b2b5-449c-a7a0-21f67182bf12",
   "metadata": {},
   "outputs": [],
   "source": []
  },
  {
   "cell_type": "code",
   "execution_count": 13,
   "id": "46347264-85a0-47a8-ad68-8777b41c3a57",
   "metadata": {},
   "outputs": [
    {
     "data": {
      "image/png": "[encoded data removed]",
      "text/plain": [
       "<Figure size 432x288 with 1 Axes>"
      ]
     },
     "metadata": {
      "needs_background": "light"
     },
     "output_type": "display_data"
    },
    {
     "data": {
      "image/png": "[encoded data removed]",
      "text/plain": [
       "<Figure size 432x288 with 1 Axes>"
      ]
     },
     "metadata": {
      "needs_background": "light"
     },
     "output_type": "display_data"
    },
    {
     "data": {
      "image/png": "[encoded data removed]",
      "text/plain": [
       "<Figure size 432x288 with 1 Axes>"
      ]
     },
     "metadata": {
      "needs_background": "light"
     },
     "output_type": "display_data"
    },
    {
     "data": {
      "image/png": "[encoded data removed]",
      "text/plain": [
       "<Figure size 432x288 with 1 Axes>"
      ]
     },
     "metadata": {
      "needs_background": "light"
     },
     "output_type": "display_data"
    },
    {
     "data": {
      "image/png": "[encoded data removed]",
      "text/plain": [
       "<Figure size 432x288 with 1 Axes>"
      ]
     },
     "metadata": {
      "needs_background": "light"
     },
     "output_type": "display_data"
    },
    {
     "data": {
      "image/png": "[encoded data removed]",
      "text/plain": [
       "<Figure size 432x288 with 1 Axes>"
      ]
     },
     "metadata": {
      "needs_background": "light"
     },
     "output_type": "display_data"
    },
    {
     "data": {
      "image/png": "[encoded data removed]",
      "text/plain": [
       "<Figure size 432x288 with 1 Axes>"
      ]
     },
     "metadata": {
      "needs_background": "light"
     },
     "output_type": "display_data"
    },
    {
     "data": {
      "image/png": "[encoded data removed]",
      "text/plain": [
       "<Figure size 432x288 with 1 Axes>"
      ]
     },
     "metadata": {
      "needs_background": "light"
     },
     "output_type": "display_data"
    },
    {
     "data": {
      "image/png": "[encoded data removed]",
      "text/plain": [
       "<Figure size 432x288 with 1 Axes>"
      ]
     },
     "metadata": {
      "needs_background": "light"
     },
     "output_type": "display_data"
    },
    {
     "data": {
      "image/png": "[encoded data removed]",
      "text/plain": [
       "<Figure size 432x288 with 1 Axes>"
      ]
     },
     "metadata": {
      "needs_background": "light"
     },
     "output_type": "display_data"
    }
   ],
   "source": [
    "def generate_random_text_image():\n",
    "    string = generate_random_string()\n",
    "    img = torch.zeros((32, 256, 1))\n",
    "    font = cv2.FONT_HERSHEY_SIMPLEX\n",
    "    org = (0, 26)\n",
    "    fontScale = 1\n",
    "    color = (255)\n",
    "    thickness = random.choice(list(range(1, 4)))\n",
    "    img = cv2.putText(img.numpy(), string, org, font, fontScale, color, thickness, cv2.LINE_AA)\n",
    "    return torch.tensor(img)\n",
    "\n",
    "for i in range(10):\n",
    "    plt.imshow(generate_random_text_image())\n",
    "    plt.show()"
   ]
  },
  {
   "cell_type": "code",
   "execution_count": 388,
   "id": "5d167be4-18f2-4cee-b78e-075a58974b4f",
   "metadata": {},
   "outputs": [
    {
     "data": {
      "text/plain": [
       "<module 'BaseTextDetectorModel' from '/Users/tnluser/PERSONAL/bb/notebooks/BaseTextDetectorModel.py'>"
      ]
     },
     "execution_count": 388,
     "metadata": {},
     "output_type": "execute_result"
    }
   ],
   "source": [
    "import BaseTextDetectorModel\n",
    "import importlib\n",
    "importlib.reload(BaseTextDetectorModel)"
   ]
  },
  {
   "cell_type": "code",
   "execution_count": 389,
   "id": "e3333bd1-666e-4b4c-af88-01c4f3683cf3",
   "metadata": {},
   "outputs": [
    {
     "data": {
      "text/plain": [
       "torch.Size([10, 1, 32, 256])"
      ]
     },
     "execution_count": 389,
     "metadata": {},
     "output_type": "execute_result"
    }
   ],
   "source": [
    "sample_input = torch.stack([generate_random_text_image() for i in range(10)]).transpose(1, 3).transpose(3, 2)\n",
    "sample_input.shape"
   ]
  },
  {
   "cell_type": "code",
   "execution_count": 390,
   "id": "e4e5570f-5e00-4363-801d-2a38b3cb2162",
   "metadata": {},
   "outputs": [
    {
     "data": {
      "text/plain": [
       "torch.Size([10, 63, 1, 29])"
      ]
     },
     "execution_count": 390,
     "metadata": {},
     "output_type": "execute_result"
    }
   ],
   "source": [
    "model = BaseTextDetectorModel.BaseTextDetector(63)\n",
    "model.forward(sample_input).shape"
   ]
  },
  {
   "cell_type": "code",
   "execution_count": 391,
   "id": "027e5627-88b2-4786-8c15-d563ab4ed31b",
   "metadata": {},
   "outputs": [
    {
     "data": {
      "text/plain": [
       "BaseTextDetector(\n",
       "  (conv1): Sequential(\n",
       "    (0): Conv2d(1, 15, kernel_size=(3, 3), stride=(1, 1))\n",
       "    (1): BatchNorm2d(15, eps=1e-05, momentum=0.1, affine=True, track_running_stats=True)\n",
       "    (2): ReLU()\n",
       "    (3): MaxPool2d(kernel_size=2, stride=(2, 2), padding=0, dilation=1, ceil_mode=False)\n",
       "  )\n",
       "  (conv2): Sequential(\n",
       "    (0): Conv2d(15, 31, kernel_size=(3, 3), stride=(1, 1))\n",
       "    (1): BatchNorm2d(31, eps=1e-05, momentum=0.1, affine=True, track_running_stats=True)\n",
       "    (2): ReLU()\n",
       "    (3): MaxPool2d(kernel_size=2, stride=(2, 2), padding=0, dilation=1, ceil_mode=False)\n",
       "  )\n",
       "  (conv3): Sequential(\n",
       "    (0): Conv2d(31, 63, kernel_size=(3, 3), stride=(1, 1))\n",
       "    (1): BatchNorm2d(63, eps=1e-05, momentum=0.1, affine=True, track_running_stats=True)\n",
       "    (2): ReLU()\n",
       "    (3): MaxPool2d(kernel_size=2, stride=(2, 2), padding=0, dilation=1, ceil_mode=False)\n",
       "  )\n",
       "  (conv4): Sequential(\n",
       "    (0): Conv2d(63, 63, kernel_size=(2, 2), stride=(1, 1))\n",
       "    (1): BatchNorm2d(63, eps=1e-05, momentum=0.1, affine=True, track_running_stats=True)\n",
       "  )\n",
       ")"
      ]
     },
     "execution_count": 391,
     "metadata": {},
     "output_type": "execute_result"
    }
   ],
   "source": [
    "model"
   ]
  },
  {
   "cell_type": "code",
   "execution_count": 392,
   "id": "ca85379a-52aa-4458-b944-b6f08b0884fe",
   "metadata": {},
   "outputs": [
    {
     "data": {
      "text/plain": [
       "1000000"
      ]
     },
     "execution_count": 392,
     "metadata": {},
     "output_type": "execute_result"
    }
   ],
   "source": [
    "10*10**5"
   ]
  },
  {
   "cell_type": "code",
   "execution_count": 393,
   "id": "e2bcebef-b681-434a-a68c-bba4dfb40a7d",
   "metadata": {},
   "outputs": [],
   "source": [
    "dataset = BaseTextDetectorModel.ImageTextDataset(10*(10**5))"
   ]
  },
  {
   "cell_type": "code",
   "execution_count": 394,
   "id": "d026234b-0f01-461a-96f1-e0715dc96bff",
   "metadata": {},
   "outputs": [
    {
     "data": {
      "text/plain": [
       "1000000"
      ]
     },
     "execution_count": 394,
     "metadata": {},
     "output_type": "execute_result"
    }
   ],
   "source": [
    "len(dataset)"
   ]
  },
  {
   "cell_type": "code",
   "execution_count": 395,
   "id": "c35ee752-0e62-481a-9e2d-4e2d900af3b1",
   "metadata": {},
   "outputs": [
    {
     "data": {
      "text/plain": [
       "tensor([[0., 0., 0.,  ..., 0., 0., 0.],\n",
       "        [0., 0., 0.,  ..., 0., 0., 0.],\n",
       "        [0., 0., 0.,  ..., 0., 0., 0.],\n",
       "        ...,\n",
       "        [0., 0., 0.,  ..., 0., 0., 0.],\n",
       "        [0., 1., 0.,  ..., 0., 0., 0.],\n",
       "        [0., 0., 0.,  ..., 1., 1., 1.]])"
      ]
     },
     "execution_count": 395,
     "metadata": {},
     "output_type": "execute_result"
    }
   ],
   "source": [
    "dataset[0][1]"
   ]
  },
  {
   "cell_type": "code",
   "execution_count": 396,
   "id": "d98ad548-5b47-49bd-b2a2-8b32020d3230",
   "metadata": {},
   "outputs": [],
   "source": [
    "dataloader = torch.utils.data.DataLoader(dataset, batch_size=16)"
   ]
  },
  {
   "cell_type": "code",
   "execution_count": 397,
   "id": "fd241231-f1fa-4b79-a2e4-c9242071f396",
   "metadata": {},
   "outputs": [],
   "source": [
    "from torch import optim"
   ]
  },
  {
   "cell_type": "code",
   "execution_count": 398,
   "id": "c3750b44-5b67-4d74-8997-c6c2ead27b22",
   "metadata": {},
   "outputs": [],
   "source": [
    "device='cpu'"
   ]
  },
  {
   "cell_type": "code",
   "execution_count": 399,
   "id": "73d3550c-918d-4667-80e6-95a1ad15d4bd",
   "metadata": {},
   "outputs": [],
   "source": [
    "optimizer = optim.Adam(model.parameters(), lr=0.001)\n",
    "loss_function = torch.nn.CrossEntropyLoss()\n",
    "scheduler = optim.lr_scheduler.StepLR(optimizer, step_size=7, gamma=0.3)"
   ]
  },
  {
   "cell_type": "code",
   "execution_count": 400,
   "id": "3e70522c-ed62-4f4f-81f5-eb3dc85494a4",
   "metadata": {},
   "outputs": [
    {
     "name": "stdout",
     "output_type": "stream",
     "text": [
      "epoch - 0\n",
      "learning rate 0.001\n"
     ]
    },
    {
     "data": {
      "application/vnd.jupyter.widget-view+json": {
       "model_id": "9e50df8c4b604085add88963a718dd2d",
       "version_major": 2,
       "version_minor": 0
      },
      "text/plain": [
       "  0%|          | 0/62500 [00:00<?, ?it/s]"
      ]
     },
     "metadata": {},
     "output_type": "display_data"
    },
    {
     "ename": "KeyboardInterrupt",
     "evalue": "",
     "output_type": "error",
     "traceback": [
      "\u001b[0;31m---------------------------------------------------------------------------\u001b[0m",
      "\u001b[0;31mKeyboardInterrupt\u001b[0m                         Traceback (most recent call last)",
      "\u001b[0;32m/var/folders/cn/9kqyl3fn4dxdrx0sql6q9vlm0000gp/T/ipykernel_40724/3895211383.py\u001b[0m in \u001b[0;36m<module>\u001b[0;34m\u001b[0m\n\u001b[1;32m     14\u001b[0m         \u001b[0mloss\u001b[0m \u001b[0;34m=\u001b[0m \u001b[0mloss_function\u001b[0m\u001b[0;34m(\u001b[0m\u001b[0mout\u001b[0m\u001b[0;34m,\u001b[0m \u001b[0mlabel\u001b[0m\u001b[0;34m)\u001b[0m\u001b[0;34m\u001b[0m\u001b[0;34m\u001b[0m\u001b[0m\n\u001b[1;32m     15\u001b[0m         \u001b[0mepoch_loss\u001b[0m\u001b[0;34m+=\u001b[0m\u001b[0mloss\u001b[0m\u001b[0;34m\u001b[0m\u001b[0;34m\u001b[0m\u001b[0m\n\u001b[0;32m---> 16\u001b[0;31m         \u001b[0mloss\u001b[0m\u001b[0;34m.\u001b[0m\u001b[0mbackward\u001b[0m\u001b[0;34m(\u001b[0m\u001b[0;34m)\u001b[0m\u001b[0;34m\u001b[0m\u001b[0;34m\u001b[0m\u001b[0m\n\u001b[0m\u001b[1;32m     17\u001b[0m         \u001b[0moptimizer\u001b[0m\u001b[0;34m.\u001b[0m\u001b[0mstep\u001b[0m\u001b[0;34m(\u001b[0m\u001b[0;34m)\u001b[0m\u001b[0;34m\u001b[0m\u001b[0;34m\u001b[0m\u001b[0m\n\u001b[1;32m     18\u001b[0m     \u001b[0mlosses\u001b[0m\u001b[0;34m.\u001b[0m\u001b[0mappend\u001b[0m\u001b[0;34m(\u001b[0m\u001b[0mepoch_loss\u001b[0m\u001b[0;34m.\u001b[0m\u001b[0mcpu\u001b[0m\u001b[0;34m(\u001b[0m\u001b[0;34m)\u001b[0m\u001b[0;34m.\u001b[0m\u001b[0mdetach\u001b[0m\u001b[0;34m(\u001b[0m\u001b[0;34m)\u001b[0m\u001b[0;34m.\u001b[0m\u001b[0mnumpy\u001b[0m\u001b[0;34m(\u001b[0m\u001b[0;34m)\u001b[0m\u001b[0;34m/\u001b[0m\u001b[0mbatches\u001b[0m\u001b[0;34m)\u001b[0m\u001b[0;34m\u001b[0m\u001b[0;34m\u001b[0m\u001b[0m\n",
      "\u001b[0;32m~/opt/anaconda3/lib/python3.9/site-packages/torch/_tensor.py\u001b[0m in \u001b[0;36mbackward\u001b[0;34m(self, gradient, retain_graph, create_graph, inputs)\u001b[0m\n\u001b[1;32m    486\u001b[0m                 \u001b[0minputs\u001b[0m\u001b[0;34m=\u001b[0m\u001b[0minputs\u001b[0m\u001b[0;34m,\u001b[0m\u001b[0;34m\u001b[0m\u001b[0;34m\u001b[0m\u001b[0m\n\u001b[1;32m    487\u001b[0m             )\n\u001b[0;32m--> 488\u001b[0;31m         torch.autograd.backward(\n\u001b[0m\u001b[1;32m    489\u001b[0m             \u001b[0mself\u001b[0m\u001b[0;34m,\u001b[0m \u001b[0mgradient\u001b[0m\u001b[0;34m,\u001b[0m \u001b[0mretain_graph\u001b[0m\u001b[0;34m,\u001b[0m \u001b[0mcreate_graph\u001b[0m\u001b[0;34m,\u001b[0m \u001b[0minputs\u001b[0m\u001b[0;34m=\u001b[0m\u001b[0minputs\u001b[0m\u001b[0;34m\u001b[0m\u001b[0;34m\u001b[0m\u001b[0m\n\u001b[1;32m    490\u001b[0m         )\n",
      "\u001b[0;32m~/opt/anaconda3/lib/python3.9/site-packages/torch/autograd/__init__.py\u001b[0m in \u001b[0;36mbackward\u001b[0;34m(tensors, grad_tensors, retain_graph, create_graph, grad_variables, inputs)\u001b[0m\n\u001b[1;32m    195\u001b[0m     \u001b[0;31m# some Python versions print out the first line of a multi-line function\u001b[0m\u001b[0;34m\u001b[0m\u001b[0;34m\u001b[0m\u001b[0m\n\u001b[1;32m    196\u001b[0m     \u001b[0;31m# calls in the traceback and some print out the last line\u001b[0m\u001b[0;34m\u001b[0m\u001b[0;34m\u001b[0m\u001b[0m\n\u001b[0;32m--> 197\u001b[0;31m     Variable._execution_engine.run_backward(  # Calls into the C++ engine to run the backward pass\n\u001b[0m\u001b[1;32m    198\u001b[0m         \u001b[0mtensors\u001b[0m\u001b[0;34m,\u001b[0m \u001b[0mgrad_tensors_\u001b[0m\u001b[0;34m,\u001b[0m \u001b[0mretain_graph\u001b[0m\u001b[0;34m,\u001b[0m \u001b[0mcreate_graph\u001b[0m\u001b[0;34m,\u001b[0m \u001b[0minputs\u001b[0m\u001b[0;34m,\u001b[0m\u001b[0;34m\u001b[0m\u001b[0;34m\u001b[0m\u001b[0m\n\u001b[1;32m    199\u001b[0m         allow_unreachable=True, accumulate_grad=True)  # Calls into the C++ engine to run the backward pass\n",
      "\u001b[0;31mKeyboardInterrupt\u001b[0m: "
     ]
    }
   ],
   "source": [
    "lrs = []\n",
    "losses = []\n",
    "for epoch in range(5):\n",
    "    epoch_loss = 0\n",
    "    batches=0\n",
    "    print('epoch -', epoch)\n",
    "    lrs.append(optimizer.param_groups[0]['lr'])\n",
    "    print('learning rate', lrs[-1])\n",
    "    for img, label in tqdm(dataloader):\n",
    "        batches+=1\n",
    "        optimizer.zero_grad()\n",
    "        out = model(img.to(device))\n",
    "        out = out.squeeze(2)\n",
    "        loss = loss_function(out, label)\n",
    "        epoch_loss+=loss\n",
    "        loss.backward()\n",
    "        optimizer.step()\n",
    "    losses.append(epoch_loss.cpu().detach().numpy()/batches)\n",
    "    scheduler.step()\n",
    "    print('epoch_loss', losses[-1])"
   ]
  },
  {
   "cell_type": "code",
   "execution_count": null,
   "id": "7299c5c3-eb00-4618-9589-cb8999e88d8c",
   "metadata": {},
   "outputs": [],
   "source": []
  }
 ],
 "metadata": {
  "kernelspec": {
   "display_name": "Python 3 (ipykernel)",
   "language": "python",
   "name": "python3"
  },
  "language_info": {
   "codemirror_mode": {
    "name": "ipython",
    "version": 3
   },
   "file_extension": ".py",
   "mimetype": "text/x-python",
   "name": "python",
   "nbconvert_exporter": "python",
   "pygments_lexer": "ipython3",
   "version": "3.9.7"
  }
 },
 "nbformat": 4,
 "nbformat_minor": 5
}
