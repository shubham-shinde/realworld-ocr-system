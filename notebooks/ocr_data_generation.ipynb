{
 "cells": [
  {
   "cell_type": "code",
   "execution_count": 454,
   "id": "ef59f7c3-3550-40df-823a-1592962fed4b",
   "metadata": {},
   "outputs": [],
   "source": [
    "import cv2\n",
    "from PIL import Image\n",
    "import random\n",
    "import torch\n",
    "import matplotlib.pyplot as plt\n",
    "from tqdm.notebook import tqdm\n",
    "import json"
   ]
  },
  {
   "cell_type": "code",
   "execution_count": 455,
   "id": "09b27efa-04cb-42e6-be79-51e1508226f7",
   "metadata": {},
   "outputs": [
    {
     "data": {
      "text/plain": [
       "<module 'torch.utils' from '/Users/tnluser/opt/anaconda3/lib/python3.9/site-packages/torch/utils/__init__.py'>"
      ]
     },
     "execution_count": 455,
     "metadata": {},
     "output_type": "execute_result"
    }
   ],
   "source": [
    "torch.utils"
   ]
  },
  {
   "cell_type": "code",
   "execution_count": 456,
   "id": "0fadf63f-b0cd-464c-aea0-8bd155c81192",
   "metadata": {},
   "outputs": [],
   "source": [
    "from english_words import get_english_words_set"
   ]
  },
  {
   "cell_type": "code",
   "execution_count": 457,
   "id": "20327739-9888-46f7-ad85-d87a6b644fef",
   "metadata": {},
   "outputs": [],
   "source": [
    "web2lowerset = list(get_english_words_set(['web2'], lower=True))"
   ]
  },
  {
   "cell_type": "code",
   "execution_count": 458,
   "id": "44877b3f-4bab-4993-a5e7-421d0146f533",
   "metadata": {},
   "outputs": [],
   "source": [
    "json.dump(web2lowerset, open('words.json', 'w'))"
   ]
  },
  {
   "cell_type": "code",
   "execution_count": 459,
   "id": "e4506ad7-a349-4a1b-bcb2-319d909c0303",
   "metadata": {},
   "outputs": [],
   "source": [
    "web2lowerset = json.load(open('words.json'))"
   ]
  },
  {
   "cell_type": "code",
   "execution_count": 460,
   "id": "850bafa6-6b0a-44b2-a2bf-16aa9dc6d04a",
   "metadata": {},
   "outputs": [
    {
     "data": {
      "text/plain": [
       "234450"
      ]
     },
     "execution_count": 460,
     "metadata": {},
     "output_type": "execute_result"
    }
   ],
   "source": [
    "len(web2lowerset)"
   ]
  },
  {
   "cell_type": "code",
   "execution_count": 461,
   "id": "ee32174d-66e1-45f0-b0c9-ce1860382197",
   "metadata": {},
   "outputs": [
    {
     "data": {
      "text/plain": [
       "{'-',\n",
       " 'a',\n",
       " 'b',\n",
       " 'c',\n",
       " 'd',\n",
       " 'e',\n",
       " 'f',\n",
       " 'g',\n",
       " 'h',\n",
       " 'i',\n",
       " 'j',\n",
       " 'k',\n",
       " 'l',\n",
       " 'm',\n",
       " 'n',\n",
       " 'o',\n",
       " 'p',\n",
       " 'q',\n",
       " 'r',\n",
       " 's',\n",
       " 't',\n",
       " 'u',\n",
       " 'v',\n",
       " 'w',\n",
       " 'x',\n",
       " 'y',\n",
       " 'z'}"
      ]
     },
     "execution_count": 461,
     "metadata": {},
     "output_type": "execute_result"
    }
   ],
   "source": [
    "set([e for l in web2lowerset for e in list(l)])"
   ]
  },
  {
   "cell_type": "code",
   "execution_count": 462,
   "id": "134cdd8b-f795-4cca-a7b2-bb33d84429a8",
   "metadata": {},
   "outputs": [
    {
     "data": {
      "text/plain": [
       "'nuwo'"
      ]
     },
     "execution_count": 462,
     "metadata": {},
     "output_type": "execute_result"
    }
   ],
   "source": [
    "types = ['nu', 'wo', 'nuwo']\n",
    "random.choice(types)"
   ]
  },
  {
   "cell_type": "code",
   "execution_count": 463,
   "id": "ceb85711-2622-4b9c-a0fb-e08658875921",
   "metadata": {},
   "outputs": [
    {
     "data": {
      "text/plain": [
       "'pat8ha09e'"
      ]
     },
     "execution_count": 463,
     "metadata": {},
     "output_type": "execute_result"
    }
   ],
   "source": [
    "t_string = list(random.choice(web2lowerset))\n",
    "indices = random.choices(list(range(len(t_string))), k=len(t_string)//3)\n",
    "for i in indices: t_string[i] = str(random.randint(0, 10))\n",
    "string = ''.join(t_string)\n",
    "string"
   ]
  },
  {
   "cell_type": "code",
   "execution_count": 464,
   "id": "07c714b8-98d8-4dac-8f57-1d6565523770",
   "metadata": {},
   "outputs": [
    {
     "data": {
      "text/plain": [
       "'pat8ha09e'"
      ]
     },
     "execution_count": 464,
     "metadata": {},
     "output_type": "execute_result"
    }
   ],
   "source": [
    "string"
   ]
  },
  {
   "cell_type": "code",
   "execution_count": 465,
   "id": "cdd176ce-87e5-42ad-9d2d-a4eb5d4767b9",
   "metadata": {},
   "outputs": [
    {
     "data": {
      "text/plain": [
       "0.7099752518898058"
      ]
     },
     "execution_count": 465,
     "metadata": {},
     "output_type": "execute_result"
    }
   ],
   "source": [
    "random.random()"
   ]
  },
  {
   "cell_type": "code",
   "execution_count": 466,
   "id": "e94ad9b3-37b4-4cd7-aa89-4678e6ddc9fb",
   "metadata": {},
   "outputs": [
    {
     "name": "stdout",
     "output_type": "stream",
     "text": [
      "UNFED10RA0\n",
      "THE1EBESID\n",
      "489841019\n",
      "HYPO8ERMAT\n",
      "POMACENTRO\n",
      "5484639100\n",
      "unflank\n",
      "CO6L6RET\n",
      "WRICK\n",
      "175\n"
     ]
    }
   ],
   "source": [
    "def generate_random_string():\n",
    "    types = ['nu', 'wo', 'nuwo']\n",
    "    ty = random.choice(types)\n",
    "    string = ''\n",
    "    if ty == 'nu':\n",
    "        length = random.randint(1, 10)\n",
    "        for i in range(length): string+= str(random.randint(0, 10))\n",
    "    if ty == 'wo':\n",
    "        string = random.choice(web2lowerset)\n",
    "    if ty == 'nuwo':\n",
    "        t_string = list(random.choice(web2lowerset))\n",
    "        indices = random.choices(list(range(len(t_string))), k=len(t_string)//3)\n",
    "        for i in indices: t_string[i] = str(random.randint(0, 10))\n",
    "        string = ''.join(t_string)\n",
    "    if random.random() > 0.5: string = string.upper()\n",
    "    return string[:10]\n",
    "for i in range(10): print(generate_random_string())"
   ]
  },
  {
   "cell_type": "code",
   "execution_count": 467,
   "id": "d1d4d2b2-9cd6-43cf-8853-cedc2ba4d1b9",
   "metadata": {},
   "outputs": [
    {
     "data": {
      "application/vnd.jupyter.widget-view+json": {
       "model_id": "a13df408a5af451e9622dd0dd8e03ffc",
       "version_major": 2,
       "version_minor": 0
      },
      "text/plain": [
       "  0%|          | 0/1000000 [00:00<?, ?it/s]"
      ]
     },
     "metadata": {},
     "output_type": "display_data"
    },
    {
     "data": {
      "text/plain": [
       "10"
      ]
     },
     "execution_count": 467,
     "metadata": {},
     "output_type": "execute_result"
    }
   ],
   "source": [
    "mx = 0\n",
    "for i in tqdm(range(1000000)):\n",
    "    le = len(generate_random_string())\n",
    "    if le > mx: mx = le\n",
    "mx"
   ]
  },
  {
   "cell_type": "code",
   "execution_count": 468,
   "id": "b99669f5-e184-474d-a869-c11bdc23a330",
   "metadata": {},
   "outputs": [
    {
     "data": {
      "text/plain": [
       "torch.Size([40, 100, 3])"
      ]
     },
     "execution_count": 468,
     "metadata": {},
     "output_type": "execute_result"
    }
   ],
   "source": [
    "torch.zeros((40, 100, 3)).shape"
   ]
  },
  {
   "cell_type": "code",
   "execution_count": null,
   "id": "127f4e2e-b2b5-449c-a7a0-21f67182bf12",
   "metadata": {},
   "outputs": [],
   "source": []
  },
  {
   "cell_type": "code",
   "execution_count": 469,
   "id": "46347264-85a0-47a8-ad68-8777b41c3a57",
   "metadata": {},
   "outputs": [
    {
     "data": {
      "image/png": "[encoded data removed]",
      "text/plain": [
       "<Figure size 432x288 with 1 Axes>"
      ]
     },
     "metadata": {
      "needs_background": "light"
     },
     "output_type": "display_data"
    },
    {
     "data": {
      "image/png": "[encoded data removed]",
      "text/plain": [
       "<Figure size 432x288 with 1 Axes>"
      ]
     },
     "metadata": {
      "needs_background": "light"
     },
     "output_type": "display_data"
    },
    {
     "data": {
      "image/png": "[encoded data removed]",
      "text/plain": [
       "<Figure size 432x288 with 1 Axes>"
      ]
     },
     "metadata": {
      "needs_background": "light"
     },
     "output_type": "display_data"
    },
    {
     "data": {
      "image/png": "[encoded data removed]",
      "text/plain": [
       "<Figure size 432x288 with 1 Axes>"
      ]
     },
     "metadata": {
      "needs_background": "light"
     },
     "output_type": "display_data"
    },
    {
     "data": {
      "image/png": "[encoded data removed]",
      "text/plain": [
       "<Figure size 432x288 with 1 Axes>"
      ]
     },
     "metadata": {
      "needs_background": "light"
     },
     "output_type": "display_data"
    },
    {
     "data": {
      "image/png": "[encoded data removed]",
      "text/plain": [
       "<Figure size 432x288 with 1 Axes>"
      ]
     },
     "metadata": {
      "needs_background": "light"
     },
     "output_type": "display_data"
    },
    {
     "data": {
      "image/png": "[encoded data removed]",
      "text/plain": [
       "<Figure size 432x288 with 1 Axes>"
      ]
     },
     "metadata": {
      "needs_background": "light"
     },
     "output_type": "display_data"
    },
    {
     "data": {
      "image/png": "[encoded data removed]",
      "text/plain": [
       "<Figure size 432x288 with 1 Axes>"
      ]
     },
     "metadata": {
      "needs_background": "light"
     },
     "output_type": "display_data"
    },
    {
     "data": {
      "image/png": "[encoded data removed]",
      "text/plain": [
       "<Figure size 432x288 with 1 Axes>"
      ]
     },
     "metadata": {
      "needs_background": "light"
     },
     "output_type": "display_data"
    },
    {
     "data": {
      "image/png": "[encoded data removed]",
      "text/plain": [
       "<Figure size 432x288 with 1 Axes>"
      ]
     },
     "metadata": {
      "needs_background": "light"
     },
     "output_type": "display_data"
    }
   ],
   "source": [
    "def generate_random_text_image():\n",
    "    string = generate_random_string()\n",
    "    img = torch.zeros((32, 128, 1))\n",
    "    font = cv2.FONT_HERSHEY_SIMPLEX\n",
    "    org = (0, 24)\n",
    "    fontScale = 0.7\n",
    "    color = (255)\n",
    "    thickness = random.choice(list(range(1, 3)))\n",
    "    img = cv2.putText(img.numpy(), string, org, font, fontScale, color, thickness, cv2.LINE_AA)\n",
    "    return torch.tensor(img)\n",
    "\n",
    "for i in range(10):\n",
    "    plt.imshow(generate_random_text_image())\n",
    "    plt.show()"
   ]
  },
  {
   "cell_type": "code",
   "execution_count": 470,
   "id": "5d167be4-18f2-4cee-b78e-075a58974b4f",
   "metadata": {},
   "outputs": [
    {
     "data": {
      "text/plain": [
       "<module 'BaseTextDetectorModel' from '/Users/tnluser/PERSONAL/bb/notebooks/BaseTextDetectorModel.py'>"
      ]
     },
     "execution_count": 470,
     "metadata": {},
     "output_type": "execute_result"
    }
   ],
   "source": [
    "import BaseTextDetectorModel\n",
    "import importlib\n",
    "importlib.reload(BaseTextDetectorModel)"
   ]
  },
  {
   "cell_type": "code",
   "execution_count": 471,
   "id": "e3333bd1-666e-4b4c-af88-01c4f3683cf3",
   "metadata": {},
   "outputs": [
    {
     "data": {
      "text/plain": [
       "torch.Size([10, 1, 32, 128])"
      ]
     },
     "execution_count": 471,
     "metadata": {},
     "output_type": "execute_result"
    }
   ],
   "source": [
    "sample_input = torch.stack([generate_random_text_image() for i in range(10)]).transpose(1, 3).transpose(3, 2)\n",
    "sample_input.shape"
   ]
  },
  {
   "cell_type": "code",
   "execution_count": 472,
   "id": "e4e5570f-5e00-4363-801d-2a38b3cb2162",
   "metadata": {},
   "outputs": [
    {
     "ename": "AttributeError",
     "evalue": "'tuple' object has no attribute 'shape'",
     "output_type": "error",
     "traceback": [
      "\u001b[0;31m---------------------------------------------------------------------------\u001b[0m",
      "\u001b[0;31mAttributeError\u001b[0m                            Traceback (most recent call last)",
      "\u001b[0;32m/var/folders/cn/9kqyl3fn4dxdrx0sql6q9vlm0000gp/T/ipykernel_40724/3989262481.py\u001b[0m in \u001b[0;36m<module>\u001b[0;34m\u001b[0m\n\u001b[1;32m      1\u001b[0m \u001b[0mmodel\u001b[0m \u001b[0;34m=\u001b[0m \u001b[0mBaseTextDetectorModel\u001b[0m\u001b[0;34m.\u001b[0m\u001b[0mBaseTextDetector\u001b[0m\u001b[0;34m(\u001b[0m\u001b[0;36m63\u001b[0m\u001b[0;34m)\u001b[0m\u001b[0;34m\u001b[0m\u001b[0;34m\u001b[0m\u001b[0m\n\u001b[0;32m----> 2\u001b[0;31m \u001b[0mmodel\u001b[0m\u001b[0;34m.\u001b[0m\u001b[0mforward\u001b[0m\u001b[0;34m(\u001b[0m\u001b[0msample_input\u001b[0m\u001b[0;34m)\u001b[0m\u001b[0;34m.\u001b[0m\u001b[0mshape\u001b[0m\u001b[0;34m\u001b[0m\u001b[0;34m\u001b[0m\u001b[0m\n\u001b[0m",
      "\u001b[0;31mAttributeError\u001b[0m: 'tuple' object has no attribute 'shape'"
     ]
    }
   ],
   "source": [
    "model = BaseTextDetectorModel.BaseTextDetector(63)\n",
    "model.forward(sample_input).shape"
   ]
  },
  {
   "cell_type": "code",
   "execution_count": 473,
   "id": "027e5627-88b2-4786-8c15-d563ab4ed31b",
   "metadata": {},
   "outputs": [
    {
     "data": {
      "text/plain": [
       "BaseTextDetector(\n",
       "  (conv1): Sequential(\n",
       "    (0): Conv2d(1, 32, kernel_size=(3, 3), stride=(1, 1), padding=(1, 1))\n",
       "    (1): ReLU()\n",
       "    (2): MaxPool2d(kernel_size=2, stride=(2, 2), padding=0, dilation=1, ceil_mode=False)\n",
       "    (3): Dropout(p=0.2, inplace=False)\n",
       "  )\n",
       "  (conv2): Sequential(\n",
       "    (0): Conv2d(32, 64, kernel_size=(3, 3), stride=(1, 1), padding=(1, 1))\n",
       "    (1): ReLU()\n",
       "    (2): MaxPool2d(kernel_size=2, stride=(2, 2), padding=0, dilation=1, ceil_mode=False)\n",
       "    (3): Dropout(p=0.2, inplace=False)\n",
       "  )\n",
       "  (conv3): Sequential(\n",
       "    (0): Conv2d(64, 128, kernel_size=(3, 3), stride=(1, 1), padding=(1, 1))\n",
       "    (1): ReLU()\n",
       "    (2): Dropout(p=0.2, inplace=False)\n",
       "  )\n",
       "  (conv4): Sequential(\n",
       "    (0): Conv2d(128, 128, kernel_size=(3, 3), stride=(1, 1), padding=(1, 1))\n",
       "    (1): ReLU()\n",
       "    (2): MaxPool2d(kernel_size=(2, 1), stride=(2, 1), padding=0, dilation=1, ceil_mode=False)\n",
       "    (3): Dropout(p=0.2, inplace=False)\n",
       "  )\n",
       "  (conv5): Sequential(\n",
       "    (0): Conv2d(128, 256, kernel_size=(3, 3), stride=(1, 1), padding=(1, 1))\n",
       "    (1): BatchNorm2d(256, eps=1e-05, momentum=0.1, affine=True, track_running_stats=True)\n",
       "    (2): ReLU()\n",
       "    (3): Dropout(p=0.2, inplace=False)\n",
       "  )\n",
       "  (conv6): Sequential(\n",
       "    (0): Conv2d(256, 256, kernel_size=(3, 3), stride=(1, 1), padding=(1, 1))\n",
       "    (1): BatchNorm2d(256, eps=1e-05, momentum=0.1, affine=True, track_running_stats=True)\n",
       "    (2): ReLU()\n",
       "    (3): MaxPool2d(kernel_size=(2, 1), stride=(2, 1), padding=0, dilation=1, ceil_mode=False)\n",
       "    (4): Dropout(p=0.2, inplace=False)\n",
       "  )\n",
       "  (conv7): Sequential(\n",
       "    (0): Conv2d(256, 64, kernel_size=(2, 2), stride=(1, 1))\n",
       "    (1): ReLU()\n",
       "    (2): Dropout(p=0.2, inplace=False)\n",
       "  )\n",
       "  (lstm): LSTM(64, 64, num_layers=2, dropout=0.2, bidirectional=True)\n",
       "  (linear2): Linear(in_features=128, out_features=64, bias=True)\n",
       ")"
      ]
     },
     "execution_count": 473,
     "metadata": {},
     "output_type": "execute_result"
    }
   ],
   "source": [
    "model"
   ]
  },
  {
   "cell_type": "code",
   "execution_count": 392,
   "id": "ca85379a-52aa-4458-b944-b6f08b0884fe",
   "metadata": {},
   "outputs": [
    {
     "data": {
      "text/plain": [
       "1000000"
      ]
     },
     "execution_count": 392,
     "metadata": {},
     "output_type": "execute_result"
    }
   ],
   "source": [
    "10*10**5"
   ]
  },
  {
   "cell_type": "code",
   "execution_count": 393,
   "id": "e2bcebef-b681-434a-a68c-bba4dfb40a7d",
   "metadata": {},
   "outputs": [],
   "source": [
    "dataset = BaseTextDetectorModel.ImageTextDataset(10*(10**5))"
   ]
  },
  {
   "cell_type": "code",
   "execution_count": 394,
   "id": "d026234b-0f01-461a-96f1-e0715dc96bff",
   "metadata": {},
   "outputs": [
    {
     "data": {
      "text/plain": [
       "1000000"
      ]
     },
     "execution_count": 394,
     "metadata": {},
     "output_type": "execute_result"
    }
   ],
   "source": [
    "len(dataset)"
   ]
  },
  {
   "cell_type": "code",
   "execution_count": 395,
   "id": "c35ee752-0e62-481a-9e2d-4e2d900af3b1",
   "metadata": {},
   "outputs": [
    {
     "data": {
      "text/plain": [
       "tensor([[0., 0., 0.,  ..., 0., 0., 0.],\n",
       "        [0., 0., 0.,  ..., 0., 0., 0.],\n",
       "        [0., 0., 0.,  ..., 0., 0., 0.],\n",
       "        ...,\n",
       "        [0., 0., 0.,  ..., 0., 0., 0.],\n",
       "        [0., 1., 0.,  ..., 0., 0., 0.],\n",
       "        [0., 0., 0.,  ..., 1., 1., 1.]])"
      ]
     },
     "execution_count": 395,
     "metadata": {},
     "output_type": "execute_result"
    }
   ],
   "source": [
    "dataset[0][1]"
   ]
  },
  {
   "cell_type": "code",
   "execution_count": 396,
   "id": "d98ad548-5b47-49bd-b2a2-8b32020d3230",
   "metadata": {},
   "outputs": [],
   "source": [
    "dataloader = torch.utils.data.DataLoader(dataset, batch_size=16)"
   ]
  },
  {
   "cell_type": "code",
   "execution_count": 397,
   "id": "fd241231-f1fa-4b79-a2e4-c9242071f396",
   "metadata": {},
   "outputs": [],
   "source": [
    "from torch import optim"
   ]
  },
  {
   "cell_type": "code",
   "execution_count": 398,
   "id": "c3750b44-5b67-4d74-8997-c6c2ead27b22",
   "metadata": {},
   "outputs": [],
   "source": [
    "device='cpu'"
   ]
  },
  {
   "cell_type": "code",
   "execution_count": 399,
   "id": "73d3550c-918d-4667-80e6-95a1ad15d4bd",
   "metadata": {},
   "outputs": [],
   "source": [
    "optimizer = optim.Adam(model.parameters(), lr=0.001)\n",
    "loss_function = torch.nn.CrossEntropyLoss()\n",
    "scheduler = optim.lr_scheduler.StepLR(optimizer, step_size=7, gamma=0.3)"
   ]
  },
  {
   "cell_type": "code",
   "execution_count": 400,
   "id": "3e70522c-ed62-4f4f-81f5-eb3dc85494a4",
   "metadata": {},
   "outputs": [
    {
     "name": "stdout",
     "output_type": "stream",
     "text": [
      "epoch - 0\n",
      "learning rate 0.001\n"
     ]
    },
    {
     "data": {
      "application/vnd.jupyter.widget-view+json": {
       "model_id": "9e50df8c4b604085add88963a718dd2d",
       "version_major": 2,
       "version_minor": 0
      },
      "text/plain": [
       "  0%|          | 0/62500 [00:00<?, ?it/s]"
      ]
     },
     "metadata": {},
     "output_type": "display_data"
    },
    {
     "ename": "KeyboardInterrupt",
     "evalue": "",
     "output_type": "error",
     "traceback": [
      "\u001b[0;31m---------------------------------------------------------------------------\u001b[0m",
      "\u001b[0;31mKeyboardInterrupt\u001b[0m                         Traceback (most recent call last)",
      "\u001b[0;32m/var/folders/cn/9kqyl3fn4dxdrx0sql6q9vlm0000gp/T/ipykernel_40724/3895211383.py\u001b[0m in \u001b[0;36m<module>\u001b[0;34m\u001b[0m\n\u001b[1;32m     14\u001b[0m         \u001b[0mloss\u001b[0m \u001b[0;34m=\u001b[0m \u001b[0mloss_function\u001b[0m\u001b[0;34m(\u001b[0m\u001b[0mout\u001b[0m\u001b[0;34m,\u001b[0m \u001b[0mlabel\u001b[0m\u001b[0;34m)\u001b[0m\u001b[0;34m\u001b[0m\u001b[0;34m\u001b[0m\u001b[0m\n\u001b[1;32m     15\u001b[0m         \u001b[0mepoch_loss\u001b[0m\u001b[0;34m+=\u001b[0m\u001b[0mloss\u001b[0m\u001b[0;34m\u001b[0m\u001b[0;34m\u001b[0m\u001b[0m\n\u001b[0;32m---> 16\u001b[0;31m         \u001b[0mloss\u001b[0m\u001b[0;34m.\u001b[0m\u001b[0mbackward\u001b[0m\u001b[0;34m(\u001b[0m\u001b[0;34m)\u001b[0m\u001b[0;34m\u001b[0m\u001b[0;34m\u001b[0m\u001b[0m\n\u001b[0m\u001b[1;32m     17\u001b[0m         \u001b[0moptimizer\u001b[0m\u001b[0;34m.\u001b[0m\u001b[0mstep\u001b[0m\u001b[0;34m(\u001b[0m\u001b[0;34m)\u001b[0m\u001b[0;34m\u001b[0m\u001b[0;34m\u001b[0m\u001b[0m\n\u001b[1;32m     18\u001b[0m     \u001b[0mlosses\u001b[0m\u001b[0;34m.\u001b[0m\u001b[0mappend\u001b[0m\u001b[0;34m(\u001b[0m\u001b[0mepoch_loss\u001b[0m\u001b[0;34m.\u001b[0m\u001b[0mcpu\u001b[0m\u001b[0;34m(\u001b[0m\u001b[0;34m)\u001b[0m\u001b[0;34m.\u001b[0m\u001b[0mdetach\u001b[0m\u001b[0;34m(\u001b[0m\u001b[0;34m)\u001b[0m\u001b[0;34m.\u001b[0m\u001b[0mnumpy\u001b[0m\u001b[0;34m(\u001b[0m\u001b[0;34m)\u001b[0m\u001b[0;34m/\u001b[0m\u001b[0mbatches\u001b[0m\u001b[0;34m)\u001b[0m\u001b[0;34m\u001b[0m\u001b[0;34m\u001b[0m\u001b[0m\n",
      "\u001b[0;32m~/opt/anaconda3/lib/python3.9/site-packages/torch/_tensor.py\u001b[0m in \u001b[0;36mbackward\u001b[0;34m(self, gradient, retain_graph, create_graph, inputs)\u001b[0m\n\u001b[1;32m    486\u001b[0m                 \u001b[0minputs\u001b[0m\u001b[0;34m=\u001b[0m\u001b[0minputs\u001b[0m\u001b[0;34m,\u001b[0m\u001b[0;34m\u001b[0m\u001b[0;34m\u001b[0m\u001b[0m\n\u001b[1;32m    487\u001b[0m             )\n\u001b[0;32m--> 488\u001b[0;31m         torch.autograd.backward(\n\u001b[0m\u001b[1;32m    489\u001b[0m             \u001b[0mself\u001b[0m\u001b[0;34m,\u001b[0m \u001b[0mgradient\u001b[0m\u001b[0;34m,\u001b[0m \u001b[0mretain_graph\u001b[0m\u001b[0;34m,\u001b[0m \u001b[0mcreate_graph\u001b[0m\u001b[0;34m,\u001b[0m \u001b[0minputs\u001b[0m\u001b[0;34m=\u001b[0m\u001b[0minputs\u001b[0m\u001b[0;34m\u001b[0m\u001b[0;34m\u001b[0m\u001b[0m\n\u001b[1;32m    490\u001b[0m         )\n",
      "\u001b[0;32m~/opt/anaconda3/lib/python3.9/site-packages/torch/autograd/__init__.py\u001b[0m in \u001b[0;36mbackward\u001b[0;34m(tensors, grad_tensors, retain_graph, create_graph, grad_variables, inputs)\u001b[0m\n\u001b[1;32m    195\u001b[0m     \u001b[0;31m# some Python versions print out the first line of a multi-line function\u001b[0m\u001b[0;34m\u001b[0m\u001b[0;34m\u001b[0m\u001b[0m\n\u001b[1;32m    196\u001b[0m     \u001b[0;31m# calls in the traceback and some print out the last line\u001b[0m\u001b[0;34m\u001b[0m\u001b[0;34m\u001b[0m\u001b[0m\n\u001b[0;32m--> 197\u001b[0;31m     Variable._execution_engine.run_backward(  # Calls into the C++ engine to run the backward pass\n\u001b[0m\u001b[1;32m    198\u001b[0m         \u001b[0mtensors\u001b[0m\u001b[0;34m,\u001b[0m \u001b[0mgrad_tensors_\u001b[0m\u001b[0;34m,\u001b[0m \u001b[0mretain_graph\u001b[0m\u001b[0;34m,\u001b[0m \u001b[0mcreate_graph\u001b[0m\u001b[0;34m,\u001b[0m \u001b[0minputs\u001b[0m\u001b[0;34m,\u001b[0m\u001b[0;34m\u001b[0m\u001b[0;34m\u001b[0m\u001b[0m\n\u001b[1;32m    199\u001b[0m         allow_unreachable=True, accumulate_grad=True)  # Calls into the C++ engine to run the backward pass\n",
      "\u001b[0;31mKeyboardInterrupt\u001b[0m: "
     ]
    }
   ],
   "source": [
    "lrs = []\n",
    "losses = []\n",
    "for epoch in range(5):\n",
    "    epoch_loss = 0\n",
    "    batches=0\n",
    "    print('epoch -', epoch)\n",
    "    lrs.append(optimizer.param_groups[0]['lr'])\n",
    "    print('learning rate', lrs[-1])\n",
    "    for img, label in tqdm(dataloader):\n",
    "        batches+=1\n",
    "        optimizer.zero_grad()\n",
    "        out = model(img.to(device))\n",
    "        out = out.squeeze(2)\n",
    "        loss = loss_function(out, label)\n",
    "        epoch_loss+=loss\n",
    "        loss.backward()\n",
    "        optimizer.step()\n",
    "    losses.append(epoch_loss.cpu().detach().numpy()/batches)\n",
    "    scheduler.step()\n",
    "    print('epoch_loss', losses[-1])"
   ]
  },
  {
   "cell_type": "code",
   "execution_count": null,
   "id": "7299c5c3-eb00-4618-9589-cb8999e88d8c",
   "metadata": {},
   "outputs": [],
   "source": []
  }
 ],
 "metadata": {
  "kernelspec": {
   "display_name": "Python 3 (ipykernel)",
   "language": "python",
   "name": "python3"
  },
  "language_info": {
   "codemirror_mode": {
    "name": "ipython",
    "version": 3
   },
   "file_extension": ".py",
   "mimetype": "text/x-python",
   "name": "python",
   "nbconvert_exporter": "python",
   "pygments_lexer": "ipython3",
   "version": "3.9.7"
  }
 },
 "nbformat": 4,
 "nbformat_minor": 5
}
